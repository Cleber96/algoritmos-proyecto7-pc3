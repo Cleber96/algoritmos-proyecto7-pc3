{
 "cells": [
  {
   "cell_type": "markdown",
   "id": "9bf5e621",
   "metadata": {},
   "source": [
    " # Índice de Modelo Recursivo (RMI)"
   ]
  },
  {
   "cell_type": "markdown",
   "id": "159b9211",
   "metadata": {},
   "source": [
    "Es como un \"índice de índices\" que usa modelos matemáticos para predecir la ubicación de un dato. La magia está en su naturaleza recursiva: un modelo te da una ubicación aproximada, y luego otro modelo (o varios) te ayudan a afinar esa predicción, como un mapa que te lleva a un área, y luego un mapa más detallado para esa área específica"
   ]
  },
  {
   "cell_type": "markdown",
   "id": "18c624b7",
   "metadata": {},
   "source": [
    "### Preparación de Datos"
   ]
  },
  {
   "cell_type": "code",
   "execution_count": 1,
   "id": "b237d6a0",
   "metadata": {},
   "outputs": [],
   "source": [
    "import numpy as np # operaciones de datos\n",
    "import matplotlib.pyplot as plt # Para visualizaciones"
   ]
  },
  {
   "cell_type": "markdown",
   "id": "1471d2f6",
   "metadata": {},
   "source": [
    "crearemos un conjunto de datos de ejemplo ordenados (es indispensable que sea ordenado)"
   ]
  },
  {
   "cell_type": "code",
   "execution_count": 2,
   "id": "cf525e22",
   "metadata": {},
   "outputs": [
    {
     "name": "stdout",
     "output_type": "stream",
     "text": [
      "Tamaño del conjunto de datos: 1000000\n",
      "Primeros 10 elementos: [ 0  4  7  9 12 13 16 18 22 23]\n",
      "Últimos 10 elementos: [1999970 1999971 1999973 1999977 1999979 1999984 1999986 1999990 1999992\n",
      " 1999995]\n"
     ]
    }
   ],
   "source": [
    "# Creamos un array de enteros ordenados para nuestro ejemplo\n",
    "# Simulemos un conjunto de datos grande y ordenado\n",
    "data_size = 1_000_000\n",
    "data = np.sort(np.random.randint(0, data_size * 2, data_size))\n",
    "\n",
    "print(f\"Tamaño del conjunto de datos: {len(data)}\")\n",
    "print(f\"Primeros 10 elementos: {data[:10]}\")\n",
    "print(f\"Últimos 10 elementos: {data[-10:]}\")"
   ]
  },
  {
   "cell_type": "markdown",
   "id": "eabe33db",
   "metadata": {},
   "source": [
    "### Implementación de Regresión Lineal por Mínimos Cuadrados"
   ]
  },
  {
   "cell_type": "markdown",
   "id": "6fe2146e",
   "metadata": {},
   "source": [
    "Para la RMI necesitamos nuestra propia función para calcular los coeficientes de una regresión lineal. La regresión lineal simple busca la línea recta (y=mx+b) que mejor se ajusta a un conjunto de puntos, minimizando la suma de los cuadrados de las distancias verticales entre los puntos y la línea.\n",
    "\n",
    "Las fórmulas para la pendiente (m) y el intercepto (b) son:\n",
    "\n",
    "m= (N∑(xy)−∑x∑y​) / (N∑(x2)−(∑x)2)\n",
    "\n",
    "b= (y−m∑x​) / N\n",
    "\n",
    "Donde:\n",
    "\n",
    "    N es el número de puntos.\n",
    "    ∑x es la suma de todos los valores de x.\n",
    "    ∑y es la suma de todos los valores de y.\n",
    "    ∑(xy) es la suma de los productos de cada x por su y correspondiente.\n",
    "    ∑(x2) es la suma de los cuadrados de cada x."
   ]
  },
  {
   "cell_type": "code",
   "execution_count": 3,
   "id": "64ca2807",
   "metadata": {},
   "outputs": [],
   "source": [
    "def train_linear_model(X, y):\n",
    "    \"\"\"\n",
    "    Entrena un modelo de regresión lineal simple (y = mx + b)\n",
    "    utilizando el método de mínimos cuadrados.\n",
    "\n",
    "    Args:\n",
    "        X (np.array): Array de valores de entrada (característica).\n",
    "        y (np.array): Array de valores de salida (objetivo).\n",
    "\n",
    "    Returns:\n",
    "        tuple: Una tupla (m, b) donde m es la pendiente y b es el intercepto.\n",
    "               Retorna (None, None) si no hay suficientes datos para entrenar.\n",
    "    \"\"\"\n",
    "    n = len(X)\n",
    "    if n < 2: # Necesitamos al menos dos puntos para una línea\n",
    "        return None, None\n",
    "\n",
    "    sum_x = np.sum(X)\n",
    "    sum_y = np.sum(y)\n",
    "    sum_xy = np.sum(X * y)\n",
    "    sum_x_squared = np.sum(X**2)\n",
    "\n",
    "    # Evitar división por cero si todos los X son iguales\n",
    "    denominator = n * sum_x_squared - sum_x**2\n",
    "    if denominator == 0:\n",
    "        # Si todos los X son iguales, la línea es vertical o constante.\n",
    "        # Aquí, si X es constante, la predicción de y debería ser la media de y.\n",
    "        # Para RMI, esto es un caso degenerado, pero podemos asumir pendiente 0.\n",
    "        m = 0.0\n",
    "        b = np.mean(y)\n",
    "    else:\n",
    "        m = (n * sum_xy - sum_x * sum_y) / denominator\n",
    "        b = (sum_y - m * sum_x) / n\n",
    "\n",
    "    return m, b\n",
    "\n",
    "def predict_linear_model(value, m, b):\n",
    "    \"\"\"\n",
    "    Realiza una predicción utilizando un modelo lineal (y = mx + b).\n",
    "\n",
    "    Args:\n",
    "        value (float): El valor de entrada para la predicción.\n",
    "        m (float): La pendiente del modelo.\n",
    "        b (float): El intercepto del modelo.\n",
    "\n",
    "    Returns:\n",
    "        float: La predicción y.\n",
    "    \"\"\"\n",
    "    return m * value + b"
   ]
  },
  {
   "cell_type": "markdown",
   "id": "83562498",
   "metadata": {},
   "source": [
    "#### Nivel 0: El Modelo Maestro (Predicción Global)"
   ]
  },
  {
   "cell_type": "markdown",
   "id": "565b2830",
   "metadata": {},
   "source": [
    "Nuestro RMI de dos niveles comienza con el modelo maestro o modelo de Nivel 0. Su misión es simple: dado un valor de búsqueda, predecir el rango aproximado o el segmento en nuestro conjunto de datos donde podría estar.\n",
    "\n",
    "Piensen en él como el \"mapa general\" que te dirige a una región amplia. Para nuestro Nivel 0, usaremos la función train_linear_model que acabamos de crear. Entrenaremos este modelo para que aprenda la relación entre un valor de dato y su posición (índice) en el array."
   ]
  },
  {
   "cell_type": "code",
   "execution_count": 4,
   "id": "07187e80",
   "metadata": {},
   "outputs": [
    {
     "name": "stdout",
     "output_type": "stream",
     "text": [
      "Coeficiente (pendiente) del modelo de Nivel 0: 0.027844\n",
      "Intercepto del modelo de Nivel 0: 472170.165804\n"
     ]
    },
    {
     "name": "stderr",
     "output_type": "stream",
     "text": [
      "/tmp/ipykernel_1471555/3042074420.py:24: RuntimeWarning: overflow encountered in scalar multiply\n",
      "  denominator = n * sum_x_squared - sum_x**2\n",
      "/tmp/ipykernel_1471555/3042074420.py:32: RuntimeWarning: overflow encountered in scalar multiply\n",
      "  m = (n * sum_xy - sum_x * sum_y) / denominator\n"
     ]
    },
    {
     "data": {
      "image/png": "[encoded data removed]",
      "text/plain": [
       "<Figure size 1000x600 with 1 Axes>"
      ]
     },
     "metadata": {},
     "output_type": "display_data"
    }
   ],
   "source": [
    "# Preparamos los datos para el entrenamiento del modelo de Nivel 0\n",
    "# X (entrada) será el valor del dato\n",
    "# Y (salida) será el índice (posición) del dato en el array\n",
    "X_level0 = data\n",
    "y_level0 = np.arange(len(data)) # Los índices del 0 al tamaño del data - 1\n",
    "\n",
    "# Entrenamos nuestro modelo de regresión lineal\n",
    "m_level0, b_level0 = train_linear_model(X_level0, y_level0)\n",
    "\n",
    "print(f\"Coeficiente (pendiente) del modelo de Nivel 0: {m_level0:.6f}\")\n",
    "print(f\"Intercepto del modelo de Nivel 0: {b_level0:.6f}\")\n",
    "\n",
    "# Visualicemos cómo se ve esta línea de predicción\n",
    "plt.figure(figsize=(10, 6))\n",
    "# Muestreamos los datos para no dibujar un millón de puntos, solo algunos para visualizar\n",
    "plt.scatter(X_level0[::1000], y_level0[::1000], s=1, alpha=0.5, label='Puntos de datos (muestras)')\n",
    "plt.plot(X_level0, predict_linear_model(X_level0, m_level0, b_level0), color='red', label='Predicción del modelo de Nivel 0')\n",
    "plt.title('Modelo de Nivel 0: Predicción de posición global')\n",
    "plt.xlabel('Valor del dato')\n",
    "plt.ylabel('Posición en el array')\n",
    "plt.legend()\n",
    "plt.grid(True)\n",
    "plt.show()"
   ]
  },
  {
   "cell_type": "markdown",
   "id": "a67df36b",
   "metadata": {},
   "source": [
    "### Nivel 1: Los Modelos Especializados (Afinando la Predicción)"
   ]
  },
  {
   "cell_type": "markdown",
   "id": "4709ee63",
   "metadata": {},
   "source": [
    "El modelo de Nivel 0 nos da una predicción aproximada. Ahora, el Nivel 1 refinará esa estimación. Consiste en múltiples modelos más pequeños y especializados, cada uno enfocado en una porción específica de nuestro conjunto de datos.\n",
    "\n",
    "Imagina que el modelo maestro te envió a la sección \"300-400\" de un libro. Ahora, dentro del Nivel 1, tienes un modelo hiper-especializado para esa sección que te dirá la página exacta.\n",
    "\n",
    "#### Dividiendo los Datos en Segmentos y Entrenando\n",
    "\n",
    "Necesitamos decidir cuántos modelos de Nivel 1 tendremos. Este número, num_level1_models, es crucial y afectará tanto la precisión como el tamaño de nuestro índice. Las predicciones del Nivel 0 nos ayudarán a asignar cada dato a un modelo de Nivel 1."
   ]
  },
  {
   "cell_type": "code",
   "execution_count": 5,
   "id": "e187f127",
   "metadata": {},
   "outputs": [
    {
     "name": "stdout",
     "output_type": "stream",
     "text": [
      "Entrenando 1000 modelos para el Nivel 1...\n"
     ]
    },
    {
     "name": "stderr",
     "output_type": "stream",
     "text": [
      "/tmp/ipykernel_1471555/3042074420.py:24: RuntimeWarning: overflow encountered in scalar multiply\n",
      "  denominator = n * sum_x_squared - sum_x**2\n",
      "/tmp/ipykernel_1471555/3042074420.py:32: RuntimeWarning: overflow encountered in scalar multiply\n",
      "  m = (n * sum_xy - sum_x * sum_y) / denominator\n"
     ]
    },
    {
     "name": "stdout",
     "output_type": "stream",
     "text": [
      "Entrenamiento de modelos de Nivel 1 completado.\n"
     ]
    }
   ],
   "source": [
    "# Definimos el número de modelos en el Nivel 1\n",
    "# Este es un hiperparámetro que equilibra precisión y tamaño del índice.\n",
    "num_level1_models = 1000 # Por ejemplo, 1000 modelos en el Nivel 1\n",
    "\n",
    "# Pre-calculamos las predicciones del Nivel 0 para todo el dataset\n",
    "# Esto nos ayuda a asignar cada dato a un segmento de Nivel 1\n",
    "predicted_indices_level0_for_data = predict_linear_model(X_level0, m_level0, b_level0)\n",
    "\n",
    "# Asignamos cada dato a un modelo de Nivel 1 basado en la predicción del Nivel 0.\n",
    "# Escalamos la predicción al rango [0, num_level1_models - 1]\n",
    "# Usamos int() para obtener el índice del modelo.\n",
    "model_assignments = (predicted_indices_level0_for_data / len(data) * num_level1_models).astype(int)\n",
    "\n",
    "# Aseguramos que las asignaciones estén dentro de los límites válidos [0, num_level1_models - 1]\n",
    "model_assignments = np.clip(model_assignments, 0, num_level1_models - 1)\n",
    "\n",
    "# Creamos una lista para almacenar nuestros modelos de Nivel 1 (pares de pendiente e intercepto)\n",
    "level1_models = [(None, None)] * num_level1_models\n",
    "\n",
    "# Para cada modelo de Nivel 1, también queremos saber qué rango de índices originales \"cubre\"\n",
    "# Esto es útil para la fase de refinamiento final.\n",
    "model_actual_start_indices = [0] * num_level1_models\n",
    "model_actual_end_indices = [0] * num_level1_models\n",
    "\n",
    "print(f\"Entrenando {num_level1_models} modelos para el Nivel 1...\")\n",
    "\n",
    "# Itera sobre cada segmento posible de Nivel 1\n",
    "for i in range(num_level1_models):\n",
    "    # Seleccionamos los datos que han sido \"asignados\" a este modelo de Nivel 1\n",
    "    mask = (model_assignments == i)\n",
    "    \n",
    "    # Verificamos si hay datos en este segmento para entrenar el modelo\n",
    "    if np.sum(mask) > 0:\n",
    "        segment_X = X_level0[mask]\n",
    "        segment_y = y_level0[mask] # Son los índices reales de estos datos\n",
    "\n",
    "        # Entrenamos nuestro modelo lineal para este segmento\n",
    "        m_level1, b_level1 = train_linear_model(segment_X, segment_y)\n",
    "        level1_models[i] = (m_level1, b_level1)\n",
    "\n",
    "        # Registramos los índices reales que este segmento contiene\n",
    "        model_actual_start_indices[i] = np.min(segment_y)\n",
    "        model_actual_end_indices[i] = np.max(segment_y)\n",
    "    else:\n",
    "        # Si un segmento no tiene datos, su modelo permanecerá como (None, None).\n",
    "        # Esto requerirá un manejo especial durante la búsqueda.\n",
    "        # En una implementación más robusta, se podría recurrir a un modelo vecino o un fallback.\n",
    "        model_actual_start_indices[i] = -1 # Marcar como no válido\n",
    "        model_actual_end_indices[i] = -1 # Marcar como no válido\n",
    "\n",
    "\n",
    "print(\"Entrenamiento de modelos de Nivel 1 completado.\")"
   ]
  },
  {
   "cell_type": "markdown",
   "id": "56fc5c86",
   "metadata": {},
   "source": [
    "### Construyendo la Función de Búsqueda del RMI"
   ]
  },
  {
   "cell_type": "markdown",
   "id": "837496e3",
   "metadata": {},
   "source": [
    "Ahora que nuestros modelos están entrenados, podemos crear la función que realizará la búsqueda. Esta función tomará un valor y lo buscará en nuestro array utilizando el RMI.\n",
    "\n",
    "La búsqueda en un RMI de dos niveles funciona así:\n",
    "\n",
    "    Paso 1 (Nivel 0): Usamos el modelo maestro para obtener una predicción inicial de la posición del valor en el array.\n",
    "    Paso 2 (Selección del Modelo de Nivel 1): Basado en esa predicción inicial, calculamos qué modelo específico del Nivel 1 debemos usar.\n",
    "    Paso 3 (Nivel 1): Usamos el modelo de Nivel 1 seleccionado para obtener una predicción más precisa.\n",
    "    Paso 4 (Refinamiento Final - Búsqueda Local): Como las predicciones de los modelos pueden no ser exactas y los índices deben ser enteros, realizamos una búsqueda lineal local (o binaria si la ventana es grande) alrededor de la posición predicha. Esto nos permite encontrar el valor exacto si existe, o su punto de inserción."
   ]
  },
  {
   "cell_type": "code",
   "execution_count": 6,
   "id": "22c599f6",
   "metadata": {},
   "outputs": [],
   "source": [
    "def rmi_search(value, data, m_level0, b_level0, level1_models, num_level1_models, \n",
    "               model_actual_start_indices, model_actual_end_indices):\n",
    "    \"\"\"\n",
    "    Realiza una búsqueda utilizando el RMI de dos niveles.\n",
    "\n",
    "    Args:\n",
    "        value (int): El valor a buscar.\n",
    "        data (np.array): El array ordenado de datos.\n",
    "        m_level0 (float): Pendiente del modelo de Nivel 0.\n",
    "        b_level0 (float): Intercepto del modelo de Nivel 0.\n",
    "        level1_models (list): Lista de tuplas (m, b) para los modelos de Nivel 1.\n",
    "        num_level1_models (int): Número total de modelos en el Nivel 1.\n",
    "        model_actual_start_indices (list): Índices de inicio reales de los segmentos de Nivel 1.\n",
    "        model_actual_end_indices (list): Índices de fin reales de los segmentos de Nivel 1.\n",
    "\n",
    "    Returns:\n",
    "        int: El índice donde se encuentra el valor, o el índice donde debería insertarse.\n",
    "    \"\"\"\n",
    "    data_len = len(data)\n",
    "\n",
    "    # Paso 1: Predicción con el modelo de Nivel 0\n",
    "    predicted_index_level0 = predict_linear_model(value, m_level0, b_level0)\n",
    "\n",
    "    # Paso 2: Seleccionar el modelo de Nivel 1\n",
    "    # Convertimos la predicción del Nivel 0 en un índice para el modelo de Nivel 1\n",
    "    model_idx_level1 = int((predicted_index_level0 / data_len) * num_level1_models)\n",
    "\n",
    "    # Aseguramos que el índice del modelo esté dentro de los límites válidos\n",
    "    model_idx_level1 = np.clip(model_idx_level1, 0, num_level1_models - 1)\n",
    "\n",
    "    m_level1, b_level1 = level1_models[model_idx_level1]\n",
    "\n",
    "    # Manejo si el modelo de Nivel 1 no fue entrenado (segmento vacío)\n",
    "    if m_level1 is None:\n",
    "        # Esto es un escenario a manejar. Una opción es buscar binariamente en un rango más amplio,\n",
    "        # o recurrir a un modelo vecino. Para esta demo, haremos una búsqueda binaria global\n",
    "        # si el modelo específico no existe.\n",
    "        print(f\"Advertencia: El modelo de Nivel 1 para el índice {model_idx_level1} no fue entrenado. Realizando búsqueda binaria global.\")\n",
    "        # np.searchsorted es una búsqueda binaria muy eficiente\n",
    "        idx = np.searchsorted(data, value)\n",
    "        return idx\n",
    "    \n",
    "    # Paso 3: Predicción con el modelo de Nivel 1\n",
    "    predicted_index_level1 = predict_linear_model(value, m_level1, b_level1)\n",
    "\n",
    "    # Paso 4: Refinamiento Final - Búsqueda local alrededor de la predicción\n",
    "    # Convertimos la predicción a un entero.\n",
    "    approx_index = int(predicted_index_level1)\n",
    "\n",
    "    # Determinamos el rango de búsqueda local.\n",
    "    # Usaremos los límites reales del segmento de datos que este modelo de Nivel 1 cubre,\n",
    "    # más un margen de seguridad para errores de predicción.\n",
    "    \n",
    "    # Primero, obtenemos los límites reales del segmento que el modelo de Nivel 1 \"espera\" manejar\n",
    "    actual_segment_start = model_actual_start_indices[model_idx_level1]\n",
    "    actual_segment_end = model_actual_end_indices[model_idx_level1]\n",
    "\n",
    "    # Definimos una ventana de búsqueda alrededor de la predicción\n",
    "    # Un tamaño de ventana de, por ejemplo, 200 elementos es un buen punto de partida.\n",
    "    # Esto ayuda a compensar errores de predicción.\n",
    "    search_window_buffer = 100 \n",
    "    \n",
    "    # Calculamos el inicio y fin de la ventana de búsqueda, combinando la predicción y los límites del segmento\n",
    "    # y asegurando que no salgan de los límites del array global.\n",
    "    \n",
    "    # El inicio de la búsqueda es el máximo entre 0, la predicción menos el buffer,\n",
    "    # y el inicio real del segmento del modelo de Nivel 1.\n",
    "    start_search = max(0, approx_index - search_window_buffer, actual_segment_start)\n",
    "    \n",
    "    # El fin de la búsqueda es el mínimo entre data_len, la predicción más el buffer,\n",
    "    # y el fin real del segmento del modelo de Nivel 1 + 1 (para incluir el último elemento).\n",
    "    end_search = min(data_len, approx_index + search_window_buffer + 1, actual_segment_end + 1)\n",
    "    \n",
    "    # Asegurarse de que start_search no sea mayor que end_search\n",
    "    if start_search > end_search:\n",
    "        start_search = max(0, end_search - 1) # Asegurar una ventana de al menos 1 elemento si es posible\n",
    "\n",
    "    # Si la ventana es muy pequeña o inválida después de los ajustes\n",
    "    if start_search >= data_len: # Si el inicio ya está fuera del array\n",
    "        return data_len\n",
    "    if end_search <= start_search: # Si la ventana es inválida o vacía\n",
    "        end_search = start_search + 1 # Aseguramos al menos un punto de control\n",
    "\n",
    "    # Realizamos una búsqueda binaria dentro de esta ventana local\n",
    "    # Esto es más eficiente que una búsqueda lineal si la ventana es considerable.\n",
    "    segment_data = data[start_search:end_search]\n",
    "    idx_in_segment = np.searchsorted(segment_data, value)\n",
    "\n",
    "    # El índice final es el inicio de la ventana más el índice dentro del segmento\n",
    "    final_index = start_search + idx_in_segment\n",
    "    \n",
    "    # Verificamos si el valor está realmente en la posición encontrada\n",
    "    # np.searchsorted devuelve el índice donde el elemento debería ser insertado para mantener el orden.\n",
    "    # Esto significa que si el elemento existe, estará en `final_index` o `final_index - 1`.\n",
    "    if final_index < data_len and data[final_index] == value:\n",
    "        return final_index\n",
    "    elif final_index > 0 and final_index <= data_len and data[final_index - 1] == value:\n",
    "        return final_index - 1\n",
    "    else:\n",
    "        # El valor no se encontró, devolvemos el índice donde debería estar\n",
    "        return final_index"
   ]
  },
  {
   "cell_type": "markdown",
   "id": "45b4e504",
   "metadata": {},
   "source": [
    "### PRUEBA"
   ]
  },
  {
   "cell_type": "code",
   "execution_count": 7,
   "id": "a0ecae2e",
   "metadata": {},
   "outputs": [],
   "source": [
    "def rmi_search(value, data, m_level0, b_level0, level1_models, num_level1_models, \n",
    "               model_actual_start_indices, model_actual_end_indices):\n",
    "    \"\"\"\n",
    "    Realiza una búsqueda utilizando el RMI de dos niveles.\n",
    "\n",
    "    Args:\n",
    "        value (int): El valor a buscar.\n",
    "        data (np.array): El array ordenado de datos.\n",
    "        m_level0 (float): Pendiente del modelo de Nivel 0.\n",
    "        b_level0 (float): Intercepto del modelo de Nivel 0.\n",
    "        level1_models (list): Lista de tuplas (m, b) para los modelos de Nivel 1.\n",
    "        num_level1_models (int): Número total de modelos en el Nivel 1.\n",
    "        model_actual_start_indices (list): Índices de inicio reales de los segmentos de Nivel 1.\n",
    "        model_actual_end_indices (list): Índices de fin reales de los segmentos de Nivel 1.\n",
    "\n",
    "    Returns:\n",
    "        int: El índice donde se encuentra el valor, o el índice donde debería insertarse.\n",
    "    \"\"\"\n",
    "    data_len = len(data)\n",
    "\n",
    "    # Paso 1: Predicción con el modelo de Nivel 0\n",
    "    predicted_index_level0 = predict_linear_model(value, m_level0, b_level0)\n",
    "\n",
    "    # Paso 2: Seleccionar el modelo de Nivel 1\n",
    "    # Convertimos la predicción del Nivel 0 en un índice para el modelo de Nivel 1\n",
    "    model_idx_level1 = int((predicted_index_level0 / data_len) * num_level1_models)\n",
    "\n",
    "    # Aseguramos que el índice del modelo esté dentro de los límites válidos\n",
    "    model_idx_level1 = np.clip(model_idx_level1, 0, num_level1_models - 1)\n",
    "\n",
    "    m_level1, b_level1 = level1_models[model_idx_level1]\n",
    "\n",
    "    # Manejo si el modelo de Nivel 1 no fue entrenado (segmento vacío)\n",
    "    if m_level1 is None:\n",
    "        # Esto es un escenario a manejar. Una opción es buscar binariamente en un rango más amplio,\n",
    "        # o recurrir a un modelo vecino. Para esta demo, haremos una búsqueda binaria global\n",
    "        # si el modelo específico no existe.\n",
    "        print(f\"Advertencia: El modelo de Nivel 1 para el índice {model_idx_level1} no fue entrenado. Realizando búsqueda binaria global.\")\n",
    "        # np.searchsorted es una búsqueda binaria muy eficiente\n",
    "        idx = np.searchsorted(data, value)\n",
    "        return idx\n",
    "    \n",
    "    # Paso 3: Predicción con el modelo de Nivel 1\n",
    "    predicted_index_level1 = predict_linear_model(value, m_level1, b_level1)\n",
    "\n",
    "    # Paso 4: Refinamiento Final - Búsqueda local alrededor de la predicción\n",
    "    # Convertimos la predicción a un entero.\n",
    "    approx_index = int(predicted_index_level1)\n",
    "\n",
    "    # Determinamos el rango de búsqueda local.\n",
    "    # Usaremos los límites reales del segmento de datos que este modelo de Nivel 1 cubre,\n",
    "    # más un margen de seguridad para errores de predicción.\n",
    "    \n",
    "    # Primero, obtenemos los límites reales del segmento que el modelo de Nivel 1 \"espera\" manejar\n",
    "    actual_segment_start = model_actual_start_indices[model_idx_level1]\n",
    "    actual_segment_end = model_actual_end_indices[model_idx_level1]\n",
    "\n",
    "    # Definimos una ventana de búsqueda alrededor de la predicción\n",
    "    # Un tamaño de ventana de, por ejemplo, 200 elementos es un buen punto de partida.\n",
    "    # Esto ayuda a compensar errores de predicción.\n",
    "    search_window_buffer = 100 \n",
    "    \n",
    "    # Calculamos el inicio y fin de la ventana de búsqueda, combinando la predicción y los límites del segmento\n",
    "    # y asegurando que no salgan de los límites del array global.\n",
    "    \n",
    "    # El inicio de la búsqueda es el máximo entre 0, la predicción menos el buffer,\n",
    "    # y el inicio real del segmento del modelo de Nivel 1.\n",
    "    start_search = max(0, approx_index - search_window_buffer, actual_segment_start)\n",
    "    \n",
    "    # El fin de la búsqueda es el mínimo entre data_len, la predicción más el buffer,\n",
    "    # y el fin real del segmento del modelo de Nivel 1 + 1 (para incluir el último elemento).\n",
    "    end_search = min(data_len, approx_index + search_window_buffer + 1, actual_segment_end + 1)\n",
    "    \n",
    "    # Asegurarse de que start_search no sea mayor que end_search\n",
    "    if start_search > end_search:\n",
    "        start_search = max(0, end_search - 1) # Asegurar una ventana de al menos 1 elemento si es posible\n",
    "\n",
    "    # Si la ventana es muy pequeña o inválida después de los ajustes\n",
    "    if start_search >= data_len: # Si el inicio ya está fuera del array\n",
    "        return data_len\n",
    "    if end_search <= start_search: # Si la ventana es inválida o vacía\n",
    "        end_search = start_search + 1 # Aseguramos al menos un punto de control\n",
    "\n",
    "    # Realizamos una búsqueda binaria dentro de esta ventana local\n",
    "    # Esto es más eficiente que una búsqueda lineal si la ventana es considerable.\n",
    "    segment_data = data[start_search:end_search]\n",
    "    idx_in_segment = np.searchsorted(segment_data, value)\n",
    "\n",
    "    # El índice final es el inicio de la ventana más el índice dentro del segmento\n",
    "    final_index = start_search + idx_in_segment\n",
    "    \n",
    "    # Verificamos si el valor está realmente en la posición encontrada\n",
    "    # np.searchsorted devuelve el índice donde el elemento debería ser insertado para mantener el orden.\n",
    "    # Esto significa que si el elemento existe, estará en `final_index` o `final_index - 1`.\n",
    "    if final_index < data_len and data[final_index] == value:\n",
    "        return final_index\n",
    "    elif final_index > 0 and final_index <= data_len and data[final_index - 1] == value:\n",
    "        return final_index - 1\n",
    "    else:\n",
    "        # El valor no se encontró, devolvemos el índice donde debería estar\n",
    "        return final_index"
   ]
  },
  {
   "cell_type": "markdown",
   "id": "33fec303",
   "metadata": {},
   "source": [
    "Análisis y Reflexiones sobre la Implementación Manual\n",
    "\n",
    "Hemos construido nuestro RMI sin bibliotecas especializadas para los modelos. Esto nos ha permitido ver de cerca cómo:\n",
    "\n",
    "    La regresión lineal por mínimos cuadrados calcula los parámetros (m y b) que definen la línea de mejor ajuste.\n",
    "    El Nivel 0 da una predicción global, y el Nivel 1 refina esa predicción dentro de un segmento más pequeño.\n",
    "    La búsqueda local es indispensable para corregir las pequeñas desviaciones de las predicciones del modelo y encontrar el índice exacto o el punto de inserción. Su eficiencia es crítica, y usar np.searchsorted en la ventana local es una optimización clave.\n",
    "\n",
    "La Importancia de los Hiperparámetros\n",
    "\n",
    "    num_level1_models: Este es el número de \"segmentos\" o \"sub-modelos\" en el segundo nivel. Si es muy bajo, los modelos de Nivel 1 tendrán que cubrir rangos muy amplios, lo que podría hacer sus predicciones menos precisas y requerir ventanas de búsqueda local más grandes. Si es muy alto, el RMI ocupará más memoria (más modelos que almacenar) y el entrenamiento será más lento.\n",
    "    search_window_buffer: Este buffer define el tamaño de la ventana de búsqueda local alrededor de la predicción final. Un buffer más grande aumenta la probabilidad de encontrar el elemento correcto incluso con errores de predicción mayores, pero a expensas de más trabajo en la búsqueda local. Un buffer pequeño es más rápido, pero podría fallar si la predicción es muy inexacta.\n",
    "\n",
    "¿Qué sucede con los segmentos vacíos?\n",
    "\n",
    "Hemos visto que si un segmento en el Nivel 1 no tiene datos asignados, su modelo queda como (None, None). En una implementación real y robusta, esto podría manejarse de varias maneras:\n",
    "\n",
    "    Fusión de segmentos: Unir el segmento vacío con un vecino.\n",
    "    Modelo predeterminado: Usar un modelo lineal genérico o del vecino más cercano.\n",
    "    Recurrir a búsqueda binaria global: Como lo hicimos en nuestro ejemplo, pero esto puede ser menos eficiente.\n",
    "\n",
    "Ventajas de esta Implementación Manual\n",
    "\n",
    "    Comprensión Profunda: Al escribir el código de regresión y búsqueda, entendemos exactamente qué cálculos se realizan y por qué.\n",
    "    Control Total: Tenemos control granular sobre cómo se entrena cada modelo y cómo se realiza la búsqueda.\n",
    "    Sin Dependencias Pesadas: Mantenemos nuestro código ligero, dependiendo solo de numpy para la eficiencia de los arrays.\n",
    "\n",
    "Conclusión\n",
    "\n",
    "Hemos logrado construir un Índice de Modelo Recursivo (RMI) básico de dos niveles implementando cada parte de manera manual, incluyendo la regresión lineal por mínimos cuadrados. Esto nos da una visión clara de cómo funcionan estos índices modernos, utilizando el poder de los modelos predictivos para acelerar las búsquedas en grandes conjuntos de datos ordenados.\n",
    "\n",
    "Este es un paso fundamental para comprender el balance entre la precisión del modelo, el espacio de almacenamiento del índice y la velocidad de búsqueda. En el siguiente paso, podríamos explorar cómo se compara este RMI con estructuras de datos tradicionales como el B-Tree, realizando un análisis comparativo de rendimiento y uso de memoria."
   ]
  }
 ],
 "metadata": {
  "kernelspec": {
   "display_name": "venv",
   "language": "python",
   "name": "python3"
  },
  "language_info": {
   "codemirror_mode": {
    "name": "ipython",
    "version": 3
   },
   "file_extension": ".py",
   "mimetype": "text/x-python",
   "name": "python",
   "nbconvert_exporter": "python",
   "pygments_lexer": "ipython3",
   "version": "3.12.3"
  }
 },
 "nbformat": 4,
 "nbformat_minor": 5
}
