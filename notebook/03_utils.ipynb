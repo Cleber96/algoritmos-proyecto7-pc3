{
 "cells": [
  {
   "cell_type": "markdown",
   "id": "8ba06ac7",
   "metadata": {},
   "source": [
    "# Funciones de Utilidad"
   ]
  },
  {
   "cell_type": "markdown",
   "id": "cc98166e",
   "metadata": {},
   "source": [
    "Se busca reutilización y dar legibilidad al código"
   ]
  },
  {
   "cell_type": "code",
   "execution_count": null,
   "id": "873b6062",
   "metadata": {},
   "outputs": [],
   "source": [
    "import numpy as np  # pa arrays\n",
    "import time         # medición tiempo\n",
    "import os\n",
    "\n",
    "np.random.seed(42) # semilla para números aleatorios"
   ]
  },
  {
   "cell_type": "markdown",
   "id": "2422d9a9",
   "metadata": {},
   "source": [
    "### Generación de Datos Sintéticos Ordenados\n",
    "\n",
    "Para probar los algoritmos de índice (RMI y B-Tree), necesitamos conjuntos de datos. Para los índices, es fundamental que los datos estén ordenados."
   ]
  },
  {
   "cell_type": "code",
   "execution_count": null,
   "id": "6f5b0803",
   "metadata": {},
   "outputs": [],
   "source": [
    "# --- Función de Generación de enteros ordenados ---\n",
    "def generate_sorted_data(size, min_val=0, max_val=None):\n",
    "    \"\"\"\n",
    "    Genera un array de enteros ordenados aleatoriamente.\n",
    "\n",
    "    Args:\n",
    "        size (int): El número de elementos en el array.\n",
    "        min_val (int): El valor mínimo posible para los enteros.\n",
    "        max_val (int, optional): El valor máximo posible para los enteros.\n",
    "                                 Si es None, se calculará un valor por defecto.\n",
    "\n",
    "    Returns:\n",
    "        np.array: Un array de enteros de numpy, ordenado de forma ascendente.\n",
    "    \"\"\"\n",
    "    if max_val is None:\n",
    "        # Si no se especifica max_val, lo hacemos el doble del tamaño para tener un buen rango.\n",
    "        max_val = size * 2\n",
    "    \n",
    "    # Generamos números aleatorios y luego los ordenamos.\n",
    "    # El orden es crucial para los índices como RMI y B-Tree.\n",
    "    data = np.random.randint(min_val, max_val, size=size)\n",
    "    data.sort() # np.sort() crea una copia, .sort() ordena in-place (más eficiente)\n",
    "    return data\n",
    "\n",
    "# --- Demostración de uso ---\n",
    "print(\"Generando un pequeño dataset de ejemplo:\")\n",
    "small_data = generate_sorted_data(size=10)\n",
    "print(small_data)\n",
    "\n",
    "print(\"\\nGenerando un dataset más grande para simulación (solo mostrando los primeros 10):\")\n",
    "large_data = generate_sorted_data(size=1_000_000)\n",
    "print(large_data[:10])\n",
    "print(\"...\")\n",
    "print(large_data[-10:])"
   ]
  },
  {
   "cell_type": "markdown",
   "id": "45d69ea9",
   "metadata": {},
   "source": [
    "Utilidad 2: Medición de Tiempo de Ejecución\n",
    "\n",
    "Cuando comparamos algoritmos, queremos saber cuál es más rápido. Para eso, necesitamos medir el tiempo que tardan en ejecutarse ciertas operaciones (como la construcción del índice o una búsqueda).\n",
    "\n",
    "Usaremos la librería time de Python para esto. La idea es registrar el tiempo antes de una operación y después de ella, y luego calcular la diferencia."
   ]
  },
  {
   "cell_type": "code",
   "execution_count": null,
   "id": "0be20b42",
   "metadata": {},
   "outputs": [],
   "source": [
    "# --- Función de Medición de Tiempo ---\n",
    "\n",
    "def measure_time(func, *args, **kwargs):\n",
    "    \"\"\"\n",
    "    Mide el tiempo de ejecución de una función dada.\n",
    "\n",
    "    Args:\n",
    "        func (callable): La función a medir.\n",
    "        *args: Argumentos posicionales para la función.\n",
    "        **kwargs: Argumentos de palabra clave para la función.\n",
    "\n",
    "    Returns:\n",
    "        tuple: Una tupla (result, elapsed_time) donde 'result' es el\n",
    "               resultado de la función y 'elapsed_time' es el tiempo en segundos.\n",
    "    \"\"\"\n",
    "    start_time = time.perf_counter() # Una medida de tiempo precisa\n",
    "    result = func(*args, **kwargs)\n",
    "    end_time = time.perf_counter()\n",
    "    elapsed_time = end_time - start_time\n",
    "    return result, elapsed_time\n",
    "\n",
    "# --- Demostración de uso ---\n",
    "print(\"\\nDemostrando la medición de tiempo:\")\n",
    "\n",
    "# Una función de ejemplo que tarda un poco\n",
    "def long_running_task(n):\n",
    "    sum_val = 0\n",
    "    for i in range(n):\n",
    "        sum_val += i\n",
    "    return sum_val\n",
    "\n",
    "# Medimos el tiempo de nuestra tarea\n",
    "result, time_taken = measure_time(long_running_task, 10_000_000)\n",
    "\n",
    "print(f\"El resultado de la tarea fue: {result}\")\n",
    "print(f\"La tarea tardó: {time_taken:.6f} segundos.\")\n",
    "\n",
    "# Otra demostración, generando un dataset\n",
    "_, gen_time = measure_time(generate_sorted_data, 5_000_000)\n",
    "print(f\"Generar 5 millones de datos ordenados tardó: {gen_time:.6f} segundos.\")"
   ]
  },
  {
   "cell_type": "markdown",
   "id": "94ea876e",
   "metadata": {},
   "source": [
    "Utilidad 3: Carga y Guardado de Datos (Opcional pero Útil)\n",
    "\n",
    "Para conjuntos de datos muy grandes, generarlos cada vez que ejecutamos el código puede ser lento. Es más eficiente generarlos una vez y guardarlos en un archivo, para luego cargarlos rápidamente cuando los necesitemos.\n",
    "\n",
    "Usaremos numpy para guardar y cargar arrays en un formato binario (.npy), que es muy eficiente"
   ]
  },
  {
   "cell_type": "code",
   "execution_count": null,
   "id": "9cc787f9",
   "metadata": {},
   "outputs": [],
   "source": [
    "# --- Funciones de Carga/Guardado de Datos ---\n",
    "\n",
    "def save_data(data, filename=\"sample_dataset.npy\", directory=\"data\"):\n",
    "    \"\"\"\n",
    "    Guarda un array de numpy en un archivo .npy.\n",
    "\n",
    "    Args:\n",
    "        data (np.array): El array a guardar.\n",
    "        filename (str): El nombre del archivo.\n",
    "        directory (str): El directorio donde guardar el archivo.\n",
    "    \"\"\"\n",
    "    os.makedirs(directory, exist_ok=True) # Crea el directorio si no existe\n",
    "    filepath = os.path.join(directory, filename)\n",
    "    np.save(filepath, data)\n",
    "    print(f\"Datos guardados en: {filepath}\")\n",
    "\n",
    "def load_data(filename=\"sample_dataset.npy\", directory=\"data\"):\n",
    "    \"\"\"\n",
    "    Carga un array de numpy desde un archivo .npy.\n",
    "\n",
    "    Args:\n",
    "        filename (str): El nombre del archivo.\n",
    "        directory (str): El directorio del archivo.\n",
    "\n",
    "    Returns:\n",
    "        np.array: El array cargado. Retorna None si el archivo no existe.\n",
    "    \"\"\"\n",
    "    filepath = os.path.join(directory, filename)\n",
    "    if os.path.exists(filepath):\n",
    "        data = np.load(filepath)\n",
    "        print(f\"Datos cargados desde: {filepath}\")\n",
    "        return data\n",
    "    else:\n",
    "        print(f\"Advertencia: Archivo {filepath} no encontrado.\")\n",
    "        return None\n",
    "\n",
    "# --- Demostración de uso ---\n",
    "print(\"\\nDemostrando carga y guardado de datos:\")\n",
    "\n",
    "# Generar y guardar un dataset\n",
    "test_data_to_save = generate_sorted_data(size=100)\n",
    "save_data(test_data_to_save, filename=\"test_data.npy\", directory=\"temp_data\")\n",
    "\n",
    "# Cargar el dataset que acabamos de guardar\n",
    "loaded_test_data = load_data(filename=\"test_data.npy\", directory=\"temp_data\")\n",
    "\n",
    "if loaded_test_data is not None:\n",
    "    print(f\"Primeros 5 elementos de los datos cargados: {loaded_test_data[:5]}\")\n",
    "    print(f\"Verificación: ¿Los datos cargados son iguales a los guardados? {np.array_equal(test_data_to_save, loaded_test_data)}\")\n",
    "    \n",
    "    # Limpieza: eliminar el archivo temporal\n",
    "    os.remove(os.path.join(\"temp_data\", \"test_data.npy\"))\n",
    "    os.rmdir(\"temp_data\") # Eliminar el directorio si está vacío\n",
    "    print(\"Archivos temporales eliminados.\")\n",
    "else:\n",
    "    print(\"No se pudo cargar el archivo de prueba.\")"
   ]
  },
  {
   "cell_type": "markdown",
   "id": "20eba3df",
   "metadata": {},
   "source": [
    "Conclusión: La Importancia de las Utilidades\n",
    "\n",
    "Hemos visto cómo estas funciones auxiliares, aunque no son el \"núcleo\" de nuestros algoritmos de índice, son absolutamente fundamentales para el desarrollo, prueba y benchmarking de nuestro proyecto. Nos permiten:\n",
    "\n",
    "    Preparar datos de manera consistente.\n",
    "    Medir el rendimiento de forma precisa.\n",
    "    Gestionar el almacenamiento de datos de manera eficiente.\n",
    "\n",
    "Al organizar estas funcionalidades en un archivo utils.py dentro de nuestro módulo rmi/ (como lo indica la estructura del proyecto), nuestro código principal se mantiene limpio y centrado en la lógica del RMI, delegando estas tareas a las herramientas adecuadas"
   ]
  }
 ],
 "metadata": {
  "kernelspec": {
   "display_name": "venv",
   "language": "python",
   "name": "python3"
  },
  "language_info": {
   "name": "python",
   "version": "3.12.3"
  }
 },
 "nbformat": 4,
 "nbformat_minor": 5
}
